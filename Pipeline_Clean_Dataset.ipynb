{
  "nbformat": 4,
  "nbformat_minor": 0,
  "metadata": {
    "colab": {
      "name": "Pipeline_Clean Dataset.ipynb",
      "provenance": [],
      "collapsed_sections": [],
      "authorship_tag": "ABX9TyMRznqpEZxMcvUttBQ4ixw6",
      "include_colab_link": true
    },
    "kernelspec": {
      "name": "python3",
      "display_name": "Python 3"
    },
    "language_info": {
      "name": "python"
    }
  },
  "cells": [
    {
      "cell_type": "markdown",
      "metadata": {
        "id": "view-in-github",
        "colab_type": "text"
      },
      "source": [
        "<a href=\"https://colab.research.google.com/github/Anette-99/API/blob/master/Pipeline_Clean_Dataset.ipynb\" target=\"_parent\"><img src=\"https://colab.research.google.com/assets/colab-badge.svg\" alt=\"Open In Colab\"/></a>"
      ]
    },
    {
      "cell_type": "markdown",
      "metadata": {
        "id": "njHCBZlhL-Gm"
      },
      "source": [
        "Se comienza a instalar la libreria de pySpark"
      ]
    },
    {
      "cell_type": "code",
      "metadata": {
        "colab": {
          "base_uri": "https://localhost:8080/"
        },
        "id": "HiosZw6QL06U",
        "outputId": "834dace5-2b18-4bba-9b56-06cd76400184"
      },
      "source": [
        "pip install pyspark"
      ],
      "execution_count": 1,
      "outputs": [
        {
          "output_type": "stream",
          "name": "stdout",
          "text": [
            "Collecting pyspark\n",
            "  Downloading pyspark-3.2.0.tar.gz (281.3 MB)\n",
            "\u001b[K     |████████████████████████████████| 281.3 MB 8.4 kB/s \n",
            "\u001b[?25hCollecting py4j==0.10.9.2\n",
            "  Downloading py4j-0.10.9.2-py2.py3-none-any.whl (198 kB)\n",
            "\u001b[K     |████████████████████████████████| 198 kB 45.0 MB/s \n",
            "\u001b[?25hBuilding wheels for collected packages: pyspark\n",
            "  Building wheel for pyspark (setup.py) ... \u001b[?25l\u001b[?25hdone\n",
            "  Created wheel for pyspark: filename=pyspark-3.2.0-py2.py3-none-any.whl size=281805912 sha256=778c1d1f3dda163b42f7cc055531489b6f9c747a950dd7d2de3c813a8e385d2f\n",
            "  Stored in directory: /root/.cache/pip/wheels/0b/de/d2/9be5d59d7331c6c2a7c1b6d1a4f463ce107332b1ecd4e80718\n",
            "Successfully built pyspark\n",
            "Installing collected packages: py4j, pyspark\n",
            "Successfully installed py4j-0.10.9.2 pyspark-3.2.0\n"
          ]
        }
      ]
    },
    {
      "cell_type": "markdown",
      "metadata": {
        "id": "uF1aGBQaMB_p"
      },
      "source": [
        "Leer el csv.\n",
        "Crear un objeto de tipo DataFrameReader usando nuestra propiedad spark.read \n",
        "Creamos un objeto de lectura especificando los Headers."
      ]
    },
    {
      "cell_type": "markdown",
      "metadata": {
        "id": "DmtjoNBdRxZM"
      },
      "source": [
        "Importamos SparkSession."
      ]
    },
    {
      "cell_type": "code",
      "metadata": {
        "colab": {
          "base_uri": "https://localhost:8080/"
        },
        "id": "aHRlowThMCjQ",
        "outputId": "df5a6bfa-1f9b-4e38-d92b-a5efa1f5f73e"
      },
      "source": [
        "from pyspark.sql import SparkSession\n",
        "\n",
        "spark = SparkSession.builder.getOrCreate()\n",
        "\n",
        "prices = spark.read.csv(\"prices.csv\")\n",
        "prices.show()"
      ],
      "execution_count": 2,
      "outputs": [
        {
          "output_type": "stream",
          "name": "stdout",
          "text": [
            "+---------+-----------+------------+-------+-----+--------+--------+----------+\n",
            "|      _c0|        _c1|         _c2|    _c3|  _c4|     _c5|     _c6|       _c7|\n",
            "+---------+-----------+------------+-------+-----+--------+--------+----------+\n",
            "|    store|countrycode|       brand|  model|price|currency|quantity|      date|\n",
            "|     Aldi|         BE|Diapers-R-Us|6months|  6.8|     EUR|      40|03/02/2019|\n",
            "| Kruidvat|         BE|     Nappy-k|2months|  4.8|     EUR|      30|28/01/2019|\n",
            "|Carrefour|         FR|     Nappy-k|2months|  5.7|     EUR|   30.00|06/02/2019|\n",
            "| Kruidvat|         NL|     Nappy-k|2months|  5.6|     EUR|      40|15/02/2019|\n",
            "|    Tesco|        IRL|     Pampers|3months|  6.3|     EUR|      35|07/02/2019|\n",
            "|       DM|         DE|     Huggies|newborn|  6.8|     EUR|      40|01/02/2019|\n",
            "|       DM|         AT|     Huggies|newborn|  7.2|     EUR|      40|01/02/2019|\n",
            "+---------+-----------+------------+-------+-----+--------+--------+----------+\n",
            "\n"
          ]
        }
      ]
    },
    {
      "cell_type": "markdown",
      "metadata": {
        "id": "S07F7K-nMCtn"
      },
      "source": [
        "Para poder especificar los nombres de columnas debemos de colocar el siguiente codigo.\n",
        "\n"
      ]
    },
    {
      "cell_type": "code",
      "metadata": {
        "colab": {
          "base_uri": "https://localhost:8080/"
        },
        "id": "-3oVNaVZMC3o",
        "outputId": "29475f10-cd43-473c-e87d-b0f178606596"
      },
      "source": [
        "prices = spark.read.options(header=\"true\").csv(\"prices.csv\")\n",
        "prices.show()"
      ],
      "execution_count": 3,
      "outputs": [
        {
          "output_type": "stream",
          "name": "stdout",
          "text": [
            "+---------+-----------+------------+-------+-----+--------+--------+----------+\n",
            "|    store|countrycode|       brand|  model|price|currency|quantity|      date|\n",
            "+---------+-----------+------------+-------+-----+--------+--------+----------+\n",
            "|     Aldi|         BE|Diapers-R-Us|6months|  6.8|     EUR|      40|03/02/2019|\n",
            "| Kruidvat|         BE|     Nappy-k|2months|  4.8|     EUR|      30|28/01/2019|\n",
            "|Carrefour|         FR|     Nappy-k|2months|  5.7|     EUR|   30.00|06/02/2019|\n",
            "| Kruidvat|         NL|     Nappy-k|2months|  5.6|     EUR|      40|15/02/2019|\n",
            "|    Tesco|        IRL|     Pampers|3months|  6.3|     EUR|      35|07/02/2019|\n",
            "|       DM|         DE|     Huggies|newborn|  6.8|     EUR|      40|01/02/2019|\n",
            "|       DM|         AT|     Huggies|newborn|  7.2|     EUR|      40|01/02/2019|\n",
            "+---------+-----------+------------+-------+-----+--------+--------+----------+\n",
            "\n"
          ]
        }
      ]
    },
    {
      "cell_type": "markdown",
      "metadata": {
        "id": "hI0hPp07MDDk"
      },
      "source": [
        "Ahora vamos a mostrar los tipos de datos que tiene el Dataset. Lo que debemos de hacer prmero es importar \"pprint\", lo que nos indicara que tipo de datos hay en el csv."
      ]
    },
    {
      "cell_type": "code",
      "metadata": {
        "colab": {
          "base_uri": "https://localhost:8080/"
        },
        "id": "XgSJnrWjTeL7",
        "outputId": "7eeb41dd-a0d3-47c6-dd6b-0c4b892f3fb5"
      },
      "source": [
        "from pprint import pprint\n",
        "pprint(prices.dtypes)"
      ],
      "execution_count": 6,
      "outputs": [
        {
          "output_type": "stream",
          "name": "stdout",
          "text": [
            "[('store', 'string'),\n",
            " ('countrycode', 'string'),\n",
            " ('brand', 'string'),\n",
            " ('model', 'string'),\n",
            " ('price', 'string'),\n",
            " ('currency', 'string'),\n",
            " ('quantity', 'string'),\n",
            " ('date', 'string')]\n"
          ]
        }
      ]
    },
    {
      "cell_type": "markdown",
      "metadata": {
        "id": "EIXWVtlYTegT"
      },
      "source": [
        "Definir el esquema de tipos de datos adecuado."
      ]
    },
    {
      "cell_type": "code",
      "metadata": {
        "colab": {
          "base_uri": "https://localhost:8080/"
        },
        "id": "nT6FtnjHTemj",
        "outputId": "ce2ccb1f-e00b-4c09-f811-2c3198f72105"
      },
      "source": [
        "from pyspark.sql.types import *\n",
        "schema = StructType([StructField(\"store\", StringType(), nullable=False), StructField(\"countrycode\", StringType(), nullable=False), StructField(\"brand\", StringType(), nullable=False), StructField(\"model\", StringType(), nullable=False), StructField(\"price\", FloatType(), nullable=False), StructField(\"currency\", StringType(), nullable=True), StructField(\"quantity\", IntegerType(), nullable=True), StructField(\"date\", DateType(), nullable=False)])\n",
        "prices = spark.read.schema(schema).options(header=\"true\").csv(\"prices.csv\")\n",
        "pprint(prices.dtypes)\n",
        "prices.show()"
      ],
      "execution_count": 9,
      "outputs": [
        {
          "output_type": "stream",
          "name": "stdout",
          "text": [
            "[('store', 'string'),\n",
            " ('countrycode', 'string'),\n",
            " ('brand', 'string'),\n",
            " ('model', 'string'),\n",
            " ('price', 'float'),\n",
            " ('currency', 'string'),\n",
            " ('quantity', 'int'),\n",
            " ('date', 'date')]\n",
            "+---------+-----------+------------+-------+-----+--------+--------+----+\n",
            "|    store|countrycode|       brand|  model|price|currency|quantity|date|\n",
            "+---------+-----------+------------+-------+-----+--------+--------+----+\n",
            "|     Aldi|         BE|Diapers-R-Us|6months|  6.8|     EUR|      40|null|\n",
            "| Kruidvat|         BE|     Nappy-k|2months|  4.8|     EUR|      30|null|\n",
            "|Carrefour|         FR|     Nappy-k|2months|  5.7|     EUR|    null|null|\n",
            "| Kruidvat|         NL|     Nappy-k|2months|  5.6|     EUR|      40|null|\n",
            "|    Tesco|        IRL|     Pampers|3months|  6.3|     EUR|      35|null|\n",
            "|       DM|         DE|     Huggies|newborn|  6.8|     EUR|      40|null|\n",
            "|       DM|         AT|     Huggies|newborn|  7.2|     EUR|      40|null|\n",
            "+---------+-----------+------------+-------+-----+--------+--------+----+\n",
            "\n"
          ]
        }
      ]
    },
    {
      "cell_type": "markdown",
      "metadata": {
        "id": "utPVPGkgUWh1"
      },
      "source": [
        "Eliminar las filas erróneas"
      ]
    },
    {
      "cell_type": "code",
      "metadata": {
        "colab": {
          "base_uri": "https://localhost:8080/"
        },
        "id": "s0Ef9ShRcd_v",
        "outputId": "3bc25ed1-c6e6-4a8e-88b1-14929ea23e65"
      },
      "source": [
        "pricesRowRemoved = spark.read.schema(schema).options(header=\"true\", mode = \"DROPMALFORMED\").csv(\"prices.csv\")\n",
        "pricesRowRemoved.show()"
      ],
      "execution_count": 11,
      "outputs": [
        {
          "output_type": "stream",
          "name": "stdout",
          "text": [
            "+-----+-----------+-----+-----+-----+--------+--------+----+\n",
            "|store|countrycode|brand|model|price|currency|quantity|date|\n",
            "+-----+-----------+-----+-----+-----+--------+--------+----+\n",
            "+-----+-----------+-----+-----+-----+--------+--------+----+\n",
            "\n"
          ]
        }
      ]
    },
    {
      "cell_type": "markdown",
      "metadata": {
        "id": "gYFJ2E8xUWJL"
      },
      "source": [
        "Este codigo va despues de nuestro esquema, para corregir y visualizar la fecha correctamente."
      ]
    },
    {
      "cell_type": "markdown",
      "metadata": {
        "id": "HD_gJTguee_g"
      },
      "source": [
        "**Podemos visualizar que de este modo estamos limpiando el Datset**"
      ]
    },
    {
      "cell_type": "code",
      "metadata": {
        "colab": {
          "base_uri": "https://localhost:8080/"
        },
        "id": "V_QuOolgUWWY",
        "outputId": "ca58a69d-26f8-44a0-a12e-04f532930701"
      },
      "source": [
        "pricesRowRemoved = spark.read.schema(schema).options(header=\"true\", mode = \"DROPMALFORMED\", dateFormat = \"dd/MM/yyyy\").csv(\"prices.csv\")\n",
        "pprint(pricesRowRemoved.dtypes)\n",
        "pricesRowRemoved.show()"
      ],
      "execution_count": 12,
      "outputs": [
        {
          "output_type": "stream",
          "name": "stdout",
          "text": [
            "[('store', 'string'),\n",
            " ('countrycode', 'string'),\n",
            " ('brand', 'string'),\n",
            " ('model', 'string'),\n",
            " ('price', 'float'),\n",
            " ('currency', 'string'),\n",
            " ('quantity', 'int'),\n",
            " ('date', 'date')]\n",
            "+--------+-----------+------------+-------+-----+--------+--------+----------+\n",
            "|   store|countrycode|       brand|  model|price|currency|quantity|      date|\n",
            "+--------+-----------+------------+-------+-----+--------+--------+----------+\n",
            "|    Aldi|         BE|Diapers-R-Us|6months|  6.8|     EUR|      40|2019-02-03|\n",
            "|Kruidvat|         BE|     Nappy-k|2months|  4.8|     EUR|      30|2019-01-28|\n",
            "|Kruidvat|         NL|     Nappy-k|2months|  5.6|     EUR|      40|2019-02-15|\n",
            "|   Tesco|        IRL|     Pampers|3months|  6.3|     EUR|      35|2019-02-07|\n",
            "|      DM|         DE|     Huggies|newborn|  6.8|     EUR|      40|2019-02-01|\n",
            "|      DM|         AT|     Huggies|newborn|  7.2|     EUR|      40|2019-02-01|\n",
            "+--------+-----------+------------+-------+-----+--------+--------+----------+\n",
            "\n"
          ]
        }
      ]
    },
    {
      "cell_type": "markdown",
      "metadata": {
        "id": "afHtZkXzeI9U"
      },
      "source": [
        "Rellenar valores vacios."
      ]
    },
    {
      "cell_type": "markdown",
      "metadata": {
        "id": "B7CqN5Fmf8mm"
      },
      "source": [
        "Con la palabra reservada ***fillna*** rellenamos las celdas que aparecen vacias con un valor."
      ]
    },
    {
      "cell_type": "code",
      "metadata": {
        "colab": {
          "base_uri": "https://localhost:8080/"
        },
        "id": "LgOy_2jqUWqa",
        "outputId": "65c94d5e-7ef6-431b-c69e-a2162ff797c5"
      },
      "source": [
        "prices3 = spark.read.schema(schema).options(header=\"true\", dateFormat = \"dd/MM/yyyy\").csv(\"prices3.csv\")\n",
        "prices3.show()\n",
        "prices3.fillna(40, subset=[\"quantity\"]).show()\n",
        "# prices3.fillna({\"quantity\":40, \"date\":01/01/1998}).show()"
      ],
      "execution_count": 15,
      "outputs": [
        {
          "output_type": "stream",
          "name": "stdout",
          "text": [
            "+---------+-----------+------------+-------+-----+--------+--------+----------+\n",
            "|    store|countrycode|       brand|  model|price|currency|quantity|      date|\n",
            "+---------+-----------+------------+-------+-----+--------+--------+----------+\n",
            "|     Aldi|         BE|Diapers-R-Us|6months|  6.8|     EUR|    null|2019-02-03|\n",
            "| Kruidvat|         BE|     Nappy-k|2months|  4.8|     EUR|      30|2019-01-28|\n",
            "|Carrefour|         FR|     Nappy-k|2months|  5.7|     EUR|      30|2019-02-06|\n",
            "| Kruidvat|         NL|     Nappy-k|2months|  5.6|     EUR|    null|2019-02-15|\n",
            "|    Tesco|        IRL|     Pampers|3months|  6.3|     EUR|      35|2019-02-07|\n",
            "|       DM|         DE|     Huggies|newborn|  6.8|     EUR|    null|2019-02-01|\n",
            "|       DM|         AT|     Huggies|newborn|  7.2|     EUR|    null|2019-02-01|\n",
            "+---------+-----------+------------+-------+-----+--------+--------+----------+\n",
            "\n",
            "+---------+-----------+------------+-------+-----+--------+--------+----------+\n",
            "|    store|countrycode|       brand|  model|price|currency|quantity|      date|\n",
            "+---------+-----------+------------+-------+-----+--------+--------+----------+\n",
            "|     Aldi|         BE|Diapers-R-Us|6months|  6.8|     EUR|      40|2019-02-03|\n",
            "| Kruidvat|         BE|     Nappy-k|2months|  4.8|     EUR|      30|2019-01-28|\n",
            "|Carrefour|         FR|     Nappy-k|2months|  5.7|     EUR|      30|2019-02-06|\n",
            "| Kruidvat|         NL|     Nappy-k|2months|  5.6|     EUR|      40|2019-02-15|\n",
            "|    Tesco|        IRL|     Pampers|3months|  6.3|     EUR|      35|2019-02-07|\n",
            "|       DM|         DE|     Huggies|newborn|  6.8|     EUR|      40|2019-02-01|\n",
            "|       DM|         AT|     Huggies|newborn|  7.2|     EUR|      40|2019-02-01|\n",
            "+---------+-----------+------------+-------+-----+--------+--------+----------+\n",
            "\n"
          ]
        }
      ]
    },
    {
      "cell_type": "markdown",
      "metadata": {
        "id": "bQzqpFAyfh_W"
      },
      "source": [
        "Utilizar condiciones para afectar valores especificos."
      ]
    },
    {
      "cell_type": "markdown",
      "metadata": {
        "id": "w7BhvhYYin82"
      },
      "source": [
        "**Aqui afectaremos la fecha:**"
      ]
    },
    {
      "cell_type": "code",
      "metadata": {
        "colab": {
          "base_uri": "https://localhost:8080/"
        },
        "id": "d7jmzH5HfiRV",
        "outputId": "99f4978a-b4a1-42e8-9d53-26d1a19e30ec"
      },
      "source": [
        "prices4 = spark.read.schema(schema).options(header=\"true\", dateFormat = \"dd/MM/yyyy\").csv(\"prices4.csv\")\n",
        "prices4.show()"
      ],
      "execution_count": 16,
      "outputs": [
        {
          "output_type": "stream",
          "name": "stdout",
          "text": [
            "+---------+-----------+------------+-------+-----+--------+--------+----------+\n",
            "|    store|countrycode|       brand|  model|price|currency|quantity|      date|\n",
            "+---------+-----------+------------+-------+-----+--------+--------+----------+\n",
            "|     Aldi|         BE|Diapers-R-Us|6months| 6.87|     EUR|      40|2025-02-03|\n",
            "| Kruidvat|         BE|     Nappy-k|2months|  4.8|     EUR|      30|2019-01-28|\n",
            "|Carrefour|         FR|     Nappy-k|2months|  5.7|     EUR|      30|      null|\n",
            "| Kruidvat|         NL|     Nappy-k|2months|  5.6|     EUR|      40|2019-02-15|\n",
            "|    Tesco|        IRL|     Pampers|3months|  6.3|     EUR|      35|2019-02-07|\n",
            "|       DM|         DE|     Huggies|newborn|  6.8|     EUR|      40|2025-02-01|\n",
            "|       DM|         AT|     Huggies|newborn|  7.2|     EUR|      40|2019-02-01|\n",
            "+---------+-----------+------------+-------+-----+--------+--------+----------+\n",
            "\n"
          ]
        }
      ]
    },
    {
      "cell_type": "markdown",
      "metadata": {
        "id": "kj4ljfEvi1z7"
      },
      "source": [
        "Aqui le vamos a incrementar 1 año: Utilizando el **date.today** significa que estamos por utilizar la fecha de hoy."
      ]
    },
    {
      "cell_type": "code",
      "metadata": {
        "colab": {
          "base_uri": "https://localhost:8080/"
        },
        "id": "hGJ-hNFsioE9",
        "outputId": "6d9246f7-3c62-4be2-e40f-cae7390cf4ee"
      },
      "source": [
        "from pyspark.sql.functions import col, when\n",
        "from datetime import date\n",
        "one_year_from_now = date.today().replace(year=date.today().year + 1)\n",
        "new_frame = prices4.withColumn(\"date\", when(col(\"date\")> one_year_from_now, None).otherwise(col(\"date\")))\n",
        "new_frame.show()"
      ],
      "execution_count": 17,
      "outputs": [
        {
          "output_type": "stream",
          "name": "stdout",
          "text": [
            "+---------+-----------+------------+-------+-----+--------+--------+----------+\n",
            "|    store|countrycode|       brand|  model|price|currency|quantity|      date|\n",
            "+---------+-----------+------------+-------+-----+--------+--------+----------+\n",
            "|     Aldi|         BE|Diapers-R-Us|6months| 6.87|     EUR|      40|      null|\n",
            "| Kruidvat|         BE|     Nappy-k|2months|  4.8|     EUR|      30|2019-01-28|\n",
            "|Carrefour|         FR|     Nappy-k|2months|  5.7|     EUR|      30|      null|\n",
            "| Kruidvat|         NL|     Nappy-k|2months|  5.6|     EUR|      40|2019-02-15|\n",
            "|    Tesco|        IRL|     Pampers|3months|  6.3|     EUR|      35|2019-02-07|\n",
            "|       DM|         DE|     Huggies|newborn|  6.8|     EUR|      40|      null|\n",
            "|       DM|         AT|     Huggies|newborn|  7.2|     EUR|      40|2019-02-01|\n",
            "+---------+-----------+------------+-------+-----+--------+--------+----------+\n",
            "\n"
          ]
        }
      ]
    },
    {
      "cell_type": "markdown",
      "metadata": {
        "id": "qv-jTV-PmEFu"
      },
      "source": [
        "**Nota:** Este lo podemos utilizar para verificar las fechas mayores a la actual."
      ]
    },
    {
      "cell_type": "code",
      "metadata": {
        "id": "ivq4isBUmLl6"
      },
      "source": [
        ""
      ],
      "execution_count": null,
      "outputs": []
    }
  ]
}