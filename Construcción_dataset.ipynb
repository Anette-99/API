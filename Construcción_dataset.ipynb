{
  "nbformat": 4,
  "nbformat_minor": 0,
  "metadata": {
    "colab": {
      "name": "Construcción_dataset.ipynb",
      "provenance": [],
      "collapsed_sections": [],
      "authorship_tag": "ABX9TyPTgxEqY3+u/fulFu/BhXB+",
      "include_colab_link": true
    },
    "kernelspec": {
      "name": "python3",
      "display_name": "Python 3"
    },
    "language_info": {
      "name": "python"
    }
  },
  "cells": [
    {
      "cell_type": "markdown",
      "metadata": {
        "id": "view-in-github",
        "colab_type": "text"
      },
      "source": [
        "<a href=\"https://colab.research.google.com/github/Anette-99/API/blob/master/Construcci%C3%B3n_dataset.ipynb\" target=\"_parent\"><img src=\"https://colab.research.google.com/assets/colab-badge.svg\" alt=\"Open In Colab\"/></a>"
      ]
    },
    {
      "cell_type": "markdown",
      "metadata": {
        "id": "9TckYdjkXqbp"
      },
      "source": [
        "**1.-** Instalamos la libreria."
      ]
    },
    {
      "cell_type": "code",
      "metadata": {
        "id": "DofEILJ2XfQS"
      },
      "source": [
        "pip install pyspark"
      ],
      "execution_count": null,
      "outputs": []
    },
    {
      "cell_type": "markdown",
      "metadata": {
        "id": "TUwEIxNvXrSY"
      },
      "source": [
        ""
      ]
    },
    {
      "cell_type": "code",
      "metadata": {
        "id": "8iZDzeMl6DHb"
      },
      "source": [
        "from pyspark.sql import SparkSession\n",
        "\n",
        "spark = SparkSession.builder.getOrCreate()\n",
        "Muerte_Limpia = spark.read.csv(\"Muerte_Limpia.csv\")\n",
        "Muerte_Limpia.show()\n",
        "\n",
        "from pprint import pprint\n",
        "pprint(Muerte_Limpia.dtypes)\n",
        "\n",
        "from pyspark.sql.types import *\n",
        "schema = StructType([StructField(\"ID\", IntegerType(), nullable=False), \n",
        "                     StructField(\"FECHA\", DateType(), nullable=True), \n",
        "                     StructField(\"FECHA DE INFORME: 1, FECHA DE FALLECIMIENTO: 0\", IntegerType(), nullable=False), \n",
        "                     StructField(\"EDAD\", ByteType(), nullable=True), \n",
        "                     StructField(\"SEXO\", StringType(), nullable=False), \n",
        "                     StructField(\"RAZA\", StringType(), nullable=True), \n",
        "                     StructField(\"DESCRIPCI�N DE LA LESI�N\", StringType(), nullable=False), \n",
        "                     StructField(\"CAUSA DE LA MUERTE\", StringType(), nullable=False),\n",
        "                     StructField(\"OTROS FACTORES SIGNIFICATIVO\", StringType(), nullable=False), \n",
        "                     StructField(\"USO HEROINA\", IntegerType(), nullable=True), \n",
        "                     StructField(\"USO COCAINA\", FloatType(), nullable=True), \n",
        "                     StructField(\"USO FENTANILO\", IntegerType(), nullable=True), \n",
        "                     StructField(\"USO ETANOL\", IntegerType(), nullable=True), \n",
        "                     StructField(\"Manera de morir\", StringType(), nullable=True)])\n",
        "Muerte_Limpia = spark.read.schema(schema).options(header=\"true\").csv(\"Muerte_Limpia.csv\")\n",
        "pprint(Muerte_Limpia.dtypes)\n",
        "Muerte_Limpia.show()\n"
      ],
      "execution_count": null,
      "outputs": []
    },
    {
      "cell_type": "markdown",
      "metadata": {
        "id": "Y7RTZpl4XrgR"
      },
      "source": [
        "**3.-** Filtrar y Ordenar filas"
      ]
    },
    {
      "cell_type": "code",
      "metadata": {
        "id": "u8SHWr4xXrm-"
      },
      "source": [
        "from pyspark.sql.functions import col\n",
        "ML123 = Muerte_Limpia.filter(col(\"EDAD\")==30).orderBy(col(\"FECHA\"))\n",
        "ML123.show()"
      ],
      "execution_count": null,
      "outputs": []
    },
    {
      "cell_type": "markdown",
      "metadata": {
        "id": "idNMb-GXXrtr"
      },
      "source": [
        "**4.-** Seleccionar algunas columnas y renombrarlas:"
      ]
    },
    {
      "cell_type": "code",
      "metadata": {
        "id": "s2-ze9wl7KbR"
      },
      "source": [
        "Muerte_Limpia.select(col(\"DESCRIPCI�N DE LA LESI�N\"), col(\"CAUSA DE LA MUERTE\").alias(\"Consumo_muerte\")).show()"
      ],
      "execution_count": null,
      "outputs": []
    },
    {
      "cell_type": "markdown",
      "metadata": {
        "id": "Xu6Vp_6jXr5f"
      },
      "source": [
        "**5.-** Eliminar filas repetitivas:"
      ]
    },
    {
      "cell_type": "code",
      "metadata": {
        "id": "3MJQA6rMXrzw"
      },
      "source": [
        "Muerte_Limpia.select(col(\"DESCRIPCI�N DE LA LESI�N\"), col(\"CAUSA DE LA MUERTE\").alias(\"Consumo_muerte\")).distinct().show()"
      ],
      "execution_count": null,
      "outputs": []
    },
    {
      "cell_type": "markdown",
      "metadata": {
        "id": "VIlkV0gNYixR"
      },
      "source": [
        "**6.-** Agrupamos"
      ]
    },
    {
      "cell_type": "code",
      "metadata": {
        "id": "9R5gdVIxXsB9"
      },
      "source": [
        "(Muerte_Limpia.groupBy(col(\"CAUSA DE LA MUERTE\")).mean(\"EDAD\")).show()"
      ],
      "execution_count": null,
      "outputs": []
    },
    {
      "cell_type": "markdown",
      "metadata": {
        "id": "iXTlYVWoY332"
      },
      "source": [
        "**7.-** Agregación, reducir o juntar en un numero simple"
      ]
    },
    {
      "cell_type": "code",
      "metadata": {
        "id": "COcdrLFsY4Fu"
      },
      "source": [
        "from pyspark.sql.functions import avg, count, stddev_samp, max\n",
        "(Muerte_Limpia.groupBy(col(\"CAUSA DE LA MUERTE\")).agg(avg(\"EDAD\").alias(\"avg_EDAD\"),count(\"CAUSA DE LA MUERTE\").alias(\"items\"))).show()"
      ],
      "execution_count": null,
      "outputs": []
    },
    {
      "cell_type": "markdown",
      "metadata": {
        "id": "qTewi04wZAc8"
      },
      "source": [
        "**8.-** "
      ]
    },
    {
      "cell_type": "code",
      "metadata": {
        "id": "9wW8v8S1ZAl5"
      },
      "source": [
        "Consumo_Limpia = spark.read.options(header=\"true\").csv(\"Consumo_Limpio.csv\")\n",
        "Consumo_Limpia.show()"
      ],
      "execution_count": null,
      "outputs": []
    },
    {
      "cell_type": "markdown",
      "metadata": {
        "id": "EN7b4jORZF6K"
      },
      "source": [
        "**9.-** "
      ]
    },
    {
      "cell_type": "code",
      "metadata": {
        "colab": {
          "base_uri": "https://localhost:8080/"
        },
        "id": "LxS5eic_-ZYj",
        "outputId": "98cf323f-2d24-415d-9af0-13dfa3025962"
      },
      "source": [
        "Consumo_with_Muerte = Consumo_Limpia.join(Muerte_Limpia,[\"EDAD\", \"EDAD\"])\n",
        "Consumo_with_Muerte.show()"
      ],
      "execution_count": null,
      "outputs": [
        {
          "output_type": "stream",
          "name": "stdout",
          "text": [
            "+----+----+----+-----------+--------------+---------------------+----------------+--------------------------+--------------+---------------------+--------------+---------------------+--------------+---------------------+------+----------+----------------------------------------------+------+---------------+------------------------+--------------------+----------------------------+-----------+-----------+-------------+----------+---------------+\n",
            "|EDAD|EDAD|  ID|No PERSONAS|Uso de alcohol|Frecuencia de alcohol|Uso de marihuana|Frecuencia de la marihuana|Uso de coca�na|Frecuencia de coca�na|Uso de grietas|Frecuencia de grietas|Uso de hero�na|Frecuencia de hero�na|    ID|     FECHA|FECHA DE INFORME: 1, FECHA DE FALLECIMIENTO: 0|  SEXO|           RAZA|DESCRIPCI�N DE LA LESI�N|  CAUSA DE LA MUERTE|OTROS FACTORES SIGNIFICATIVO|USO HEROINA|USO COCAINA|USO FENTANILO|USO ETANOL|Manera de morir|\n",
            "+----+----+----+-----------+--------------+---------------------+----------------+--------------------------+--------------+---------------------+--------------+---------------------+--------------+---------------------+------+----------+----------------------------------------------+------+---------------+------------------------+--------------------+----------------------------+-----------+-----------+-------------+----------+---------------+\n",
            "|  30|  30|1248|       2864|           0.7|                  0.5|             0.2|                       0.7|             0|                  0.1|             0|                  0.2|           2.5|                  0.7|160165|2016-06-30|                                             0|Female|          White|         Substance Abuse|Acute Heroin and ...|                          No|          1|        1.0|            0|         0|       Accident|\n",
            "|  23|  23|1241|       4707|           0.6|                  0.5|             0.3|                       0.5|           0.1|                  0.1|           0.1|                  0.1|             0|                  0.6|160208|2021-07-01|                                             0|  Male|          White|         substance abuse|Acute Fentanyl an...|                          No|          1|        0.0|            1|         0|       Accident|\n",
            "|  23|  23|1241|       4707|           0.6|                  0.5|             0.3|                       0.5|           0.1|                  0.1|           0.1|                  0.1|             0|                  0.6|140277|2014-07-03|                                             0|Female|          White|              Inhalation| Heroin Intoxication|                          No|          1|        0.0|            0|         0|       Accident|\n",
            "|  21|  21|1239|       2354|           0.3|                  0.5|             0.3|                       0.5|           0.1|                  0.1|             0|                  0.2|             0|                  0.3|120205|2018-07-04|                                             0|Female|          White|             Used Heroin|     Heroin Toxicity|                          No|          1|        0.0|            0|         0|       Accident|\n",
            "|  50|  50|1268|       7391|           0.4|                  0.5|             0.1|                       0.5|             0|                  0.2|             0|                  0.5|           0.9|                  0.4|130161|2014-08-07|                                             0|  Male|          White|               Ingestion|Oxycodone Intoxic...|                          No|          0|        0.0|            0|         0|       Accident|\n",
            "|  26|  26|1244|       2628|           0.5|                  0.5|             0.2|                       0.5|             0|                  0.1|             0|                  0.1|             0|                  0.5|120218|2014-07-08|                                             0|Female|Hispanic, White|    Injection/Inhalation|Multiple Drug Tox...|                          No|          1|        1.0|            0|         0|       Accident|\n",
            "|  29|  29|1247|       2628|           0.5|                  0.5|             0.2|                       0.5|             0|                  0.1|             0|                  0.1|             0|                  0.5|160028|2013-07-12|                                             0|  Male|          Black|         Substance Abuse|Acute Heroin Into...|                          No|          1|        0.0|            0|         0|       Accident|\n",
            "|  45|  45|1263|       7391|           2.8|                  0.5|             0.1|                       0.5|             0|                  0.2|             0|                  0.5|             0|                  2.8|130279|2014-07-13|                                             0|  Male|          White|               Ingestion|Methadone Intoxic...|                          No|          0|        0.0|            0|         0|       Accident|\n",
            "|  29|  29|1247|       2628|           0.5|                  0.5|             0.2|                       0.5|             0|                  0.1|             0|                  0.1|             0|                  0.5|140042|2014-07-14|                                             0|Female|          White|         Substance Abuse|Acute intoxicatio...|                          No|          1|        0.0|            0|         0|       Accident|\n",
            "|  42|  42|1260|       7391|           2.8|                  0.5|             0.1|                       0.5|             0|                  0.2|             0|                  0.5|             0|                  2.8|140048|2018-07-15|                                             0|  Male|          White|               Ingestion|Ethanol and Oxymo...|                          No|          0|        0.0|            0|         1|       Accident|\n",
            "|  54|  54|1272|       3923|           0.4|                  0.5|             0.1|                       0.5|           0.1|                  0.4|             0|                  0.6|             0|                  0.4|160065|2018-07-16|                                             0|  Male|          White|    Substance Abuse I...|Acute Heroin Into...|                          No|          1|        0.0|            0|         1|       Accident|\n",
            "|  47|  47|1265|       7391|           2.8|                  0.5|             0.1|                       0.5|             0|                  0.2|             0|                  0.5|             0|                  2.8|140474|2019-07-18|                                             0|  Male|          White|         substance abuse|Acute intoxicatio...|                          No|          1|        0.0|            0|         1|       Accident|\n",
            "|  27|  27|1245|       2628|           0.5|                  0.5|             0.2|                       0.5|             0|                  0.1|             0|                  0.1|             0|                  0.5|140188|2019-07-20|                                             0|  Male|          White|               Ingestion|Intoxication due ...|                          No|          0|        0.0|            0|         0|       Accident|\n",
            "|  34|  34|1252|       2864|           0.7|                  0.5|             0.2|                       0.7|             0|                  0.1|             0|                  0.2|             0|                  0.7|160688|2019-07-21|                                             0|  Male|          White|         Substance Abuse|Acute Intoxicatio...|                          No|          1|        0.0|            1|         0|       Accident|\n",
            "|  27|  27|1245|       2628|           0.5|                  0.5|             0.2|                       0.5|             0|                  0.1|             0|                  0.1|             0|                  0.5|160495|2019-07-22|                                             0|Female|          White|         Substance Abuse|Acute Intoxicatio...|                          No|          1|        0.0|            1|         0|       Accident|\n",
            "|  25|  25|1243|       4591|           0.9|                  0.5|             0.3|                       0.6|             0|                  0.1|             0|                  0.1|           0.3|                  0.9|170817|2014-07-23|                                             1|  Male|          White|         Substance abuse|ACUTE COMBINED HE...|                          No|          1|        1.0|            1|         0|       Accident|\n",
            "|  51|  51|1269|       3923|           0.4|                  0.5|             0.1|                       0.5|           0.1|                  0.4|             0|                  0.6|           0.1|                  0.4|180095|2014-07-24|                                             1|  Male|          White|                Drug Use|Acute Intoxicatio...|                          No|          0|        0.0|            1|         1|       Accident|\n",
            "|  25|  25|1243|       4591|           0.9|                  0.5|             0.3|                       0.6|             0|                  0.1|             0|                  0.1|           0.3|                  0.9|180285|2014-07-27|                                             1|Female|Hispanic, White|         Substance Abuse|Complications of ...|                          No|          0|        0.0|            0|         0|       Accident|\n",
            "|  43|  43|1261|       7391|           2.8|                  0.5|             0.1|                       0.5|             0|                  0.2|             0|                  0.5|             0|                  2.8|160316|2014-07-28|                                             0|  Male|          White|         substance abuse|Acute Heroin, Fen...|                          No|          1|        1.0|            1|         1|       Accident|\n",
            "|  48|  48|1266|       7391|           2.8|                  0.5|             0.1|                       0.5|             0|                  0.2|             0|                  0.5|           0.7|                  2.8|130441|2014-07-29|                                             0|  Male|          White|         substance abuse|Acute intoxicatio...|                          No|          1|        0.0|            0|         1|       Accident|\n",
            "+----+----+----+-----------+--------------+---------------------+----------------+--------------------------+--------------+---------------------+--------------+---------------------+--------------+---------------------+------+----------+----------------------------------------------+------+---------------+------------------------+--------------------+----------------------------+-----------+-----------+-------------+----------+---------------+\n",
            "only showing top 20 rows\n",
            "\n"
          ]
        }
      ]
    }
  ]
}